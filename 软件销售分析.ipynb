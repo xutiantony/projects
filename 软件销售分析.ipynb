{
 "cells": [
  {
   "cell_type": "markdown",
   "metadata": {},
   "source": [
    "# A/B测试：软件销售价格测试\n",
    "\n",
    "软件公司xyz的产品销售价格为39美金。为提高总体销售额，产品经理对产品价格做了一次A/B test：对66%的用户维持原价格，对其余33%的用户将价格提高到59美金。初步测试已结束，现分析数据已尝试解答以下问题：\n",
    "\n",
    "1.公司是否应当将价格提高至59美金？\n",
    "2.有哪些用户特征对转化率有影响？\n",
    "\n",
    "整个notebook分为下面几个部分：\n",
    "\n",
    "1.数据清洗与整理\n",
    "2.A/B test样本的随机性检查\n",
    "3.解答问题"
   ]
  },
  {
   "cell_type": "code",
   "execution_count": 1,
   "metadata": {},
   "outputs": [],
   "source": [
    "import numpy as np\n",
    "import pandas as pd\n",
    "import matplotlib.pyplot as plt\n",
    "from scipy.stats import ttest_ind \n",
    "import seaborn as sns"
   ]
  },
  {
   "cell_type": "markdown",
   "metadata": {},
   "source": [
    "A. 数据清洗与整理"
   ]
  },
  {
   "cell_type": "code",
   "execution_count": 2,
   "metadata": {},
   "outputs": [],
   "source": [
    "#对数据做初步梳理\n",
    "user_table = pd.read_csv('C:/Users/xutia/Downloads/user_table.csv')\n",
    "test_results = pd.read_csv('C:/Users/xutia/Downloads/test_results.csv')"
   ]
  },
  {
   "cell_type": "code",
   "execution_count": 3,
   "metadata": {},
   "outputs": [
    {
     "data": {
      "text/html": [
       "<div>\n",
       "<style scoped>\n",
       "    .dataframe tbody tr th:only-of-type {\n",
       "        vertical-align: middle;\n",
       "    }\n",
       "\n",
       "    .dataframe tbody tr th {\n",
       "        vertical-align: top;\n",
       "    }\n",
       "\n",
       "    .dataframe thead th {\n",
       "        text-align: right;\n",
       "    }\n",
       "</style>\n",
       "<table border=\"1\" class=\"dataframe\">\n",
       "  <thead>\n",
       "    <tr style=\"text-align: right;\">\n",
       "      <th></th>\n",
       "      <th>user_id</th>\n",
       "      <th>city</th>\n",
       "      <th>country</th>\n",
       "      <th>lat</th>\n",
       "      <th>long</th>\n",
       "    </tr>\n",
       "  </thead>\n",
       "  <tbody>\n",
       "    <tr>\n",
       "      <td>0</td>\n",
       "      <td>510335</td>\n",
       "      <td>Peabody</td>\n",
       "      <td>USA</td>\n",
       "      <td>42.53</td>\n",
       "      <td>-70.97</td>\n",
       "    </tr>\n",
       "    <tr>\n",
       "      <td>1</td>\n",
       "      <td>89568</td>\n",
       "      <td>Reno</td>\n",
       "      <td>USA</td>\n",
       "      <td>39.54</td>\n",
       "      <td>-119.82</td>\n",
       "    </tr>\n",
       "    <tr>\n",
       "      <td>2</td>\n",
       "      <td>434134</td>\n",
       "      <td>Rialto</td>\n",
       "      <td>USA</td>\n",
       "      <td>34.11</td>\n",
       "      <td>-117.39</td>\n",
       "    </tr>\n",
       "    <tr>\n",
       "      <td>3</td>\n",
       "      <td>289769</td>\n",
       "      <td>Carson City</td>\n",
       "      <td>USA</td>\n",
       "      <td>39.15</td>\n",
       "      <td>-119.74</td>\n",
       "    </tr>\n",
       "    <tr>\n",
       "      <td>4</td>\n",
       "      <td>939586</td>\n",
       "      <td>Chicago</td>\n",
       "      <td>USA</td>\n",
       "      <td>41.84</td>\n",
       "      <td>-87.68</td>\n",
       "    </tr>\n",
       "  </tbody>\n",
       "</table>\n",
       "</div>"
      ],
      "text/plain": [
       "   user_id         city country    lat    long\n",
       "0   510335      Peabody     USA  42.53  -70.97\n",
       "1    89568         Reno     USA  39.54 -119.82\n",
       "2   434134       Rialto     USA  34.11 -117.39\n",
       "3   289769  Carson City     USA  39.15 -119.74\n",
       "4   939586      Chicago     USA  41.84  -87.68"
      ]
     },
     "execution_count": 3,
     "metadata": {},
     "output_type": "execute_result"
    }
   ],
   "source": [
    "user_table.head()"
   ]
  },
  {
   "cell_type": "code",
   "execution_count": 4,
   "metadata": {},
   "outputs": [
    {
     "data": {
      "text/plain": [
       "array(['USA'], dtype=object)"
      ]
     },
     "execution_count": 4,
     "metadata": {},
     "output_type": "execute_result"
    }
   ],
   "source": [
    "user_table['country'].unique()"
   ]
  },
  {
   "cell_type": "code",
   "execution_count": 5,
   "metadata": {},
   "outputs": [
    {
     "data": {
      "text/plain": [
       "New York       25748\n",
       "Chicago         7153\n",
       "Houston         6706\n",
       "San Antonio     4633\n",
       "Los Angeles     4141\n",
       "               ...  \n",
       "New Milford        1\n",
       "East Lake          1\n",
       "Ocala              1\n",
       "Costa Mesa         1\n",
       "Cerritos           1\n",
       "Name: city, Length: 923, dtype: int64"
      ]
     },
     "execution_count": 5,
     "metadata": {},
     "output_type": "execute_result"
    }
   ],
   "source": [
    "user_table['city'].value_counts()"
   ]
  },
  {
   "cell_type": "code",
   "execution_count": 6,
   "metadata": {},
   "outputs": [
    {
     "data": {
      "text/html": [
       "<div>\n",
       "<style scoped>\n",
       "    .dataframe tbody tr th:only-of-type {\n",
       "        vertical-align: middle;\n",
       "    }\n",
       "\n",
       "    .dataframe tbody tr th {\n",
       "        vertical-align: top;\n",
       "    }\n",
       "\n",
       "    .dataframe thead th {\n",
       "        text-align: right;\n",
       "    }\n",
       "</style>\n",
       "<table border=\"1\" class=\"dataframe\">\n",
       "  <thead>\n",
       "    <tr style=\"text-align: right;\">\n",
       "      <th></th>\n",
       "      <th>user_id</th>\n",
       "      <th>timestamp</th>\n",
       "      <th>source</th>\n",
       "      <th>device</th>\n",
       "      <th>operative_system</th>\n",
       "      <th>test</th>\n",
       "      <th>price</th>\n",
       "      <th>converted</th>\n",
       "    </tr>\n",
       "  </thead>\n",
       "  <tbody>\n",
       "    <tr>\n",
       "      <td>0</td>\n",
       "      <td>604839</td>\n",
       "      <td>2015-05-08 03:38:34</td>\n",
       "      <td>ads_facebook</td>\n",
       "      <td>mobile</td>\n",
       "      <td>iOS</td>\n",
       "      <td>0</td>\n",
       "      <td>39</td>\n",
       "      <td>0</td>\n",
       "    </tr>\n",
       "    <tr>\n",
       "      <td>1</td>\n",
       "      <td>624057</td>\n",
       "      <td>2015-05-10 21:08:46</td>\n",
       "      <td>seo-google</td>\n",
       "      <td>mobile</td>\n",
       "      <td>android</td>\n",
       "      <td>0</td>\n",
       "      <td>39</td>\n",
       "      <td>0</td>\n",
       "    </tr>\n",
       "    <tr>\n",
       "      <td>2</td>\n",
       "      <td>317970</td>\n",
       "      <td>2015-04-04 15:01:23</td>\n",
       "      <td>ads-bing</td>\n",
       "      <td>mobile</td>\n",
       "      <td>android</td>\n",
       "      <td>0</td>\n",
       "      <td>39</td>\n",
       "      <td>0</td>\n",
       "    </tr>\n",
       "    <tr>\n",
       "      <td>3</td>\n",
       "      <td>685636</td>\n",
       "      <td>2015-05-07 07:26:01</td>\n",
       "      <td>direct_traffic</td>\n",
       "      <td>mobile</td>\n",
       "      <td>iOS</td>\n",
       "      <td>1</td>\n",
       "      <td>59</td>\n",
       "      <td>0</td>\n",
       "    </tr>\n",
       "    <tr>\n",
       "      <td>4</td>\n",
       "      <td>820854</td>\n",
       "      <td>2015-05-24 11:04:40</td>\n",
       "      <td>ads_facebook</td>\n",
       "      <td>web</td>\n",
       "      <td>mac</td>\n",
       "      <td>0</td>\n",
       "      <td>39</td>\n",
       "      <td>0</td>\n",
       "    </tr>\n",
       "  </tbody>\n",
       "</table>\n",
       "</div>"
      ],
      "text/plain": [
       "   user_id            timestamp          source  device operative_system  \\\n",
       "0   604839  2015-05-08 03:38:34    ads_facebook  mobile              iOS   \n",
       "1   624057  2015-05-10 21:08:46      seo-google  mobile          android   \n",
       "2   317970  2015-04-04 15:01:23        ads-bing  mobile          android   \n",
       "3   685636  2015-05-07 07:26:01  direct_traffic  mobile              iOS   \n",
       "4   820854  2015-05-24 11:04:40    ads_facebook     web              mac   \n",
       "\n",
       "   test  price  converted  \n",
       "0     0     39          0  \n",
       "1     0     39          0  \n",
       "2     0     39          0  \n",
       "3     1     59          0  \n",
       "4     0     39          0  "
      ]
     },
     "execution_count": 6,
     "metadata": {},
     "output_type": "execute_result"
    }
   ],
   "source": [
    "test_results.head()"
   ]
  },
  {
   "cell_type": "code",
   "execution_count": 7,
   "metadata": {},
   "outputs": [
    {
     "data": {
      "text/plain": [
       "direct_traffic     60357\n",
       "ads-google         59379\n",
       "ads_facebook       53396\n",
       "ads_other          29876\n",
       "seo-google         23175\n",
       "ads-bing           22873\n",
       "seo_facebook       21205\n",
       "friend_referral    20695\n",
       "seo-other           9260\n",
       "ads-yahoo           7583\n",
       "seo-yahoo           6848\n",
       "seo-bing            2153\n",
       "Name: source, dtype: int64"
      ]
     },
     "execution_count": 7,
     "metadata": {},
     "output_type": "execute_result"
    }
   ],
   "source": [
    "test_results['source'].value_counts()"
   ]
  },
  {
   "cell_type": "code",
   "execution_count": 8,
   "metadata": {},
   "outputs": [
    {
     "data": {
      "text/plain": [
       "mobile    186471\n",
       "web       130329\n",
       "Name: device, dtype: int64"
      ]
     },
     "execution_count": 8,
     "metadata": {},
     "output_type": "execute_result"
    }
   ],
   "source": [
    "test_results['device'].value_counts()"
   ]
  },
  {
   "cell_type": "code",
   "execution_count": 9,
   "metadata": {},
   "outputs": [
    {
     "data": {
      "text/plain": [
       "windows    100976\n",
       "iOS         95465\n",
       "android     74935\n",
       "mac         25085\n",
       "other       16204\n",
       "linux        4135\n",
       "Name: operative_system, dtype: int64"
      ]
     },
     "execution_count": 9,
     "metadata": {},
     "output_type": "execute_result"
    }
   ],
   "source": [
    "test_results['operative_system'].value_counts()"
   ]
  },
  {
   "cell_type": "markdown",
   "metadata": {},
   "source": [
    "整个数据集里的用户信息包括：用户的地理位置，登陆时间，通过何种渠道接触到网站，操作系统与操作平台，所看到的产品价格以及是否被转化成付费用户。\n",
    "\n",
    "所有用户均来自美国，操作平台分为移动端和网页端，操作系统包括所有常见系统，marketing渠道包括Facebook，Google，Bing，Yahoo，其他非主流平台的广告与SEO，以及现有客户的referral。"
   ]
  },
  {
   "cell_type": "code",
   "execution_count": 10,
   "metadata": {},
   "outputs": [],
   "source": [
    "#将两个数据集合并\n",
    "all_data=test_results.merge(user_table,left_on='user_id',right_on='user_id')"
   ]
  },
  {
   "cell_type": "code",
   "execution_count": 11,
   "metadata": {},
   "outputs": [
    {
     "data": {
      "text/plain": [
       "user_id             0\n",
       "timestamp           0\n",
       "source              0\n",
       "device              0\n",
       "operative_system    0\n",
       "test                0\n",
       "price               0\n",
       "converted           0\n",
       "city                0\n",
       "country             0\n",
       "lat                 0\n",
       "long                0\n",
       "dtype: int64"
      ]
     },
     "execution_count": 11,
     "metadata": {},
     "output_type": "execute_result"
    }
   ],
   "source": [
    "all_data.isnull().sum()"
   ]
  },
  {
   "cell_type": "code",
   "execution_count": 12,
   "metadata": {},
   "outputs": [],
   "source": [
    "#因为所有用户均来自美国，决定删除国家特征。\n",
    "all_data=all_data.drop('country',axis=1)"
   ]
  },
  {
   "cell_type": "code",
   "execution_count": 13,
   "metadata": {},
   "outputs": [
    {
     "data": {
      "text/html": [
       "<div>\n",
       "<style scoped>\n",
       "    .dataframe tbody tr th:only-of-type {\n",
       "        vertical-align: middle;\n",
       "    }\n",
       "\n",
       "    .dataframe tbody tr th {\n",
       "        vertical-align: top;\n",
       "    }\n",
       "\n",
       "    .dataframe thead th {\n",
       "        text-align: right;\n",
       "    }\n",
       "</style>\n",
       "<table border=\"1\" class=\"dataframe\">\n",
       "  <thead>\n",
       "    <tr style=\"text-align: right;\">\n",
       "      <th></th>\n",
       "      <th></th>\n",
       "      <th>user_id</th>\n",
       "    </tr>\n",
       "    <tr>\n",
       "      <th>test</th>\n",
       "      <th>price</th>\n",
       "      <th></th>\n",
       "    </tr>\n",
       "  </thead>\n",
       "  <tbody>\n",
       "    <tr>\n",
       "      <td rowspan=\"2\" valign=\"top\">0</td>\n",
       "      <td>39</td>\n",
       "      <td>176241</td>\n",
       "    </tr>\n",
       "    <tr>\n",
       "      <td>59</td>\n",
       "      <td>187</td>\n",
       "    </tr>\n",
       "    <tr>\n",
       "      <td rowspan=\"2\" valign=\"top\">1</td>\n",
       "      <td>39</td>\n",
       "      <td>135</td>\n",
       "    </tr>\n",
       "    <tr>\n",
       "      <td>59</td>\n",
       "      <td>99053</td>\n",
       "    </tr>\n",
       "  </tbody>\n",
       "</table>\n",
       "</div>"
      ],
      "text/plain": [
       "            user_id\n",
       "test price         \n",
       "0    39      176241\n",
       "     59         187\n",
       "1    39         135\n",
       "     59       99053"
      ]
     },
     "execution_count": 13,
     "metadata": {},
     "output_type": "execute_result"
    }
   ],
   "source": [
    "all_data[['price','test','user_id']].groupby(['test','price']).count()"
   ]
  },
  {
   "cell_type": "markdown",
   "metadata": {},
   "source": [
    "数据出现下列问题:test=0 的用户不应该出现price=59。相对的，test=1的用户不应该看见price=39.\n",
    "\n",
    "鉴于错误数据量占总量本较少，决定删掉此类错误数据。"
   ]
  },
  {
   "cell_type": "code",
   "execution_count": 14,
   "metadata": {},
   "outputs": [],
   "source": [
    "a= ((all_data['price']==59) & (all_data['test']==1))\n",
    "b =  ((all_data['price']==39) & (all_data['test']==0))\n",
    "all_data=all_data[a|b]"
   ]
  },
  {
   "cell_type": "code",
   "execution_count": 15,
   "metadata": {},
   "outputs": [],
   "source": [
    "#建立销售额特征\n",
    "all_data['revenue']=all_data['price']*all_data['converted']\n",
    "#数据整理结束"
   ]
  },
  {
   "cell_type": "raw",
   "metadata": {},
   "source": []
  },
  {
   "cell_type": "raw",
   "metadata": {},
   "source": []
  },
  {
   "cell_type": "markdown",
   "metadata": {},
   "source": []
  },
  {
   "cell_type": "markdown",
   "metadata": {},
   "source": [
    "B. A/B test样本的随机性检查"
   ]
  },
  {
   "cell_type": "code",
   "execution_count": 16,
   "metadata": {},
   "outputs": [],
   "source": [
    "plt.style.use('default')\n",
    "%matplotlib inline"
   ]
  },
  {
   "cell_type": "code",
   "execution_count": 17,
   "metadata": {},
   "outputs": [
    {
     "data": {
      "text/html": [
       "<div>\n",
       "<style scoped>\n",
       "    .dataframe tbody tr th:only-of-type {\n",
       "        vertical-align: middle;\n",
       "    }\n",
       "\n",
       "    .dataframe tbody tr th {\n",
       "        vertical-align: top;\n",
       "    }\n",
       "\n",
       "    .dataframe thead th {\n",
       "        text-align: right;\n",
       "    }\n",
       "</style>\n",
       "<table border=\"1\" class=\"dataframe\">\n",
       "  <thead>\n",
       "    <tr style=\"text-align: right;\">\n",
       "      <th>source</th>\n",
       "      <th>ads-bing</th>\n",
       "      <th>ads-google</th>\n",
       "      <th>ads-yahoo</th>\n",
       "      <th>ads_facebook</th>\n",
       "      <th>ads_other</th>\n",
       "      <th>direct_traffic</th>\n",
       "      <th>friend_referral</th>\n",
       "      <th>seo-bing</th>\n",
       "      <th>seo-google</th>\n",
       "      <th>seo-other</th>\n",
       "      <th>seo-yahoo</th>\n",
       "      <th>seo_facebook</th>\n",
       "    </tr>\n",
       "    <tr>\n",
       "      <th>test</th>\n",
       "      <th></th>\n",
       "      <th></th>\n",
       "      <th></th>\n",
       "      <th></th>\n",
       "      <th></th>\n",
       "      <th></th>\n",
       "      <th></th>\n",
       "      <th></th>\n",
       "      <th></th>\n",
       "      <th></th>\n",
       "      <th></th>\n",
       "      <th></th>\n",
       "    </tr>\n",
       "  </thead>\n",
       "  <tbody>\n",
       "    <tr>\n",
       "      <td>0</td>\n",
       "      <td>0.071850</td>\n",
       "      <td>0.186495</td>\n",
       "      <td>0.023604</td>\n",
       "      <td>0.167725</td>\n",
       "      <td>0.095460</td>\n",
       "      <td>0.191528</td>\n",
       "      <td>0.064769</td>\n",
       "      <td>0.006548</td>\n",
       "      <td>0.074534</td>\n",
       "      <td>0.029068</td>\n",
       "      <td>0.021703</td>\n",
       "      <td>0.066715</td>\n",
       "    </tr>\n",
       "    <tr>\n",
       "      <td>1</td>\n",
       "      <td>0.072557</td>\n",
       "      <td>0.188556</td>\n",
       "      <td>0.024290</td>\n",
       "      <td>0.169283</td>\n",
       "      <td>0.093051</td>\n",
       "      <td>0.189444</td>\n",
       "      <td>0.066429</td>\n",
       "      <td>0.007178</td>\n",
       "      <td>0.070629</td>\n",
       "      <td>0.029469</td>\n",
       "      <td>0.021504</td>\n",
       "      <td>0.067610</td>\n",
       "    </tr>\n",
       "  </tbody>\n",
       "</table>\n",
       "</div>"
      ],
      "text/plain": [
       "source  ads-bing  ads-google  ads-yahoo  ads_facebook  ads_other  \\\n",
       "test                                                               \n",
       "0       0.071850    0.186495   0.023604      0.167725   0.095460   \n",
       "1       0.072557    0.188556   0.024290      0.169283   0.093051   \n",
       "\n",
       "source  direct_traffic  friend_referral  seo-bing  seo-google  seo-other  \\\n",
       "test                                                                       \n",
       "0             0.191528         0.064769  0.006548    0.074534   0.029068   \n",
       "1             0.189444         0.066429  0.007178    0.070629   0.029469   \n",
       "\n",
       "source  seo-yahoo  seo_facebook  \n",
       "test                             \n",
       "0        0.021703      0.066715  \n",
       "1        0.021504      0.067610  "
      ]
     },
     "execution_count": 17,
     "metadata": {},
     "output_type": "execute_result"
    }
   ],
   "source": [
    "#a.渠道的随机性检查\n",
    "tmp = all_data.groupby('test')['source'].value_counts(normalize=True).unstack()\n",
    "tmp"
   ]
  },
  {
   "cell_type": "code",
   "execution_count": 18,
   "metadata": {},
   "outputs": [
    {
     "data": {
      "image/png": "[encoded data removed]",
      "text/plain": [
       "<Figure size 864x432 with 1 Axes>"
      ]
     },
     "metadata": {
      "needs_background": "light"
     },
     "output_type": "display_data"
    }
   ],
   "source": [
    "    #渠道客户分布\n",
    "fig, ax = plt.subplots(figsize=(12, 6))\n",
    "tmp.plot(kind = 'bar',ax=ax).legend(loc=1, prop={'size': 10})\n",
    "plt.show()"
   ]
  },
  {
   "cell_type": "code",
   "execution_count": 19,
   "metadata": {},
   "outputs": [
    {
     "data": {
      "image/png": "[encoded data removed]",
      "text/plain": [
       "<Figure size 864x432 with 1 Axes>"
      ]
     },
     "metadata": {
      "needs_background": "light"
     },
     "output_type": "display_data"
    }
   ],
   "source": [
    "tmp = all_data.loc[all_data['test']==1]['source'].value_counts()/all_data['source'].value_counts()\n",
    "fig, ax = plt.subplots(figsize=(12, 6))\n",
    "tmp.plot(kind = 'bar',ax=ax).legend(loc=1, prop={'size': 10})\n",
    "plt.show()"
   ]
  },
  {
   "cell_type": "code",
   "execution_count": 20,
   "metadata": {},
   "outputs": [],
   "source": [
    "#b. 操作平台的随机性检查"
   ]
  },
  {
   "cell_type": "code",
   "execution_count": 21,
   "metadata": {},
   "outputs": [
    {
     "data": {
      "text/html": [
       "<div>\n",
       "<style scoped>\n",
       "    .dataframe tbody tr th:only-of-type {\n",
       "        vertical-align: middle;\n",
       "    }\n",
       "\n",
       "    .dataframe tbody tr th {\n",
       "        vertical-align: top;\n",
       "    }\n",
       "\n",
       "    .dataframe thead th {\n",
       "        text-align: right;\n",
       "    }\n",
       "</style>\n",
       "<table border=\"1\" class=\"dataframe\">\n",
       "  <thead>\n",
       "    <tr style=\"text-align: right;\">\n",
       "      <th>operative_system</th>\n",
       "      <th>android</th>\n",
       "      <th>iOS</th>\n",
       "      <th>linux</th>\n",
       "      <th>mac</th>\n",
       "      <th>other</th>\n",
       "      <th>windows</th>\n",
       "    </tr>\n",
       "    <tr>\n",
       "      <th>test</th>\n",
       "      <th></th>\n",
       "      <th></th>\n",
       "      <th></th>\n",
       "      <th></th>\n",
       "      <th></th>\n",
       "      <th></th>\n",
       "    </tr>\n",
       "  </thead>\n",
       "  <tbody>\n",
       "    <tr>\n",
       "      <td>0</td>\n",
       "      <td>0.238180</td>\n",
       "      <td>0.304736</td>\n",
       "      <td>0.010945</td>\n",
       "      <td>0.081008</td>\n",
       "      <td>0.052133</td>\n",
       "      <td>0.312998</td>\n",
       "    </tr>\n",
       "    <tr>\n",
       "      <td>1</td>\n",
       "      <td>0.234905</td>\n",
       "      <td>0.294570</td>\n",
       "      <td>0.017173</td>\n",
       "      <td>0.076000</td>\n",
       "      <td>0.049781</td>\n",
       "      <td>0.327572</td>\n",
       "    </tr>\n",
       "  </tbody>\n",
       "</table>\n",
       "</div>"
      ],
      "text/plain": [
       "operative_system   android       iOS     linux       mac     other   windows\n",
       "test                                                                        \n",
       "0                 0.238180  0.304736  0.010945  0.081008  0.052133  0.312998\n",
       "1                 0.234905  0.294570  0.017173  0.076000  0.049781  0.327572"
      ]
     },
     "execution_count": 21,
     "metadata": {},
     "output_type": "execute_result"
    }
   ],
   "source": [
    "tmp = all_data.groupby('test')['operative_system'].value_counts(normalize=True).unstack()\n",
    "tmp"
   ]
  },
  {
   "cell_type": "code",
   "execution_count": 22,
   "metadata": {},
   "outputs": [
    {
     "data": {
      "image/png": "[encoded data removed]",
      "text/plain": [
       "<Figure size 864x432 with 1 Axes>"
      ]
     },
     "metadata": {
      "needs_background": "light"
     },
     "output_type": "display_data"
    }
   ],
   "source": [
    "    #不同操作平台下的客户分布\n",
    "fig, ax = plt.subplots(figsize=(12, 6))\n",
    "tmp.plot(kind = 'bar',ax=ax).legend(loc=1, prop={'size': 10})\n",
    "plt.show()"
   ]
  },
  {
   "cell_type": "code",
   "execution_count": 23,
   "metadata": {
    "scrolled": true
   },
   "outputs": [
    {
     "data": {
      "image/png": "[encoded data removed]",
      "text/plain": [
       "<Figure size 864x432 with 1 Axes>"
      ]
     },
     "metadata": {
      "needs_background": "light"
     },
     "output_type": "display_data"
    }
   ],
   "source": [
    "tmp = all_data.loc[all_data['test']==1]['operative_system'].value_counts()/all_data['operative_system'].value_counts()\n",
    "fig, ax = plt.subplots(figsize=(12, 6))\n",
    "tmp.plot(kind = 'bar',ax=ax).legend(loc=1, prop={'size': 10})\n",
    "plt.show()"
   ]
  },
  {
   "cell_type": "markdown",
   "metadata": {},
   "source": [
    "从上述图表与数据中我们发现，此次a/b测试在客户渠道上，基本做到了随机性选择样本的要求。但在操作平台方面，Linux与Windows在实验组中有高于平均值的权重。这会影响到最后结论的有效性。"
   ]
  },
  {
   "cell_type": "markdown",
   "metadata": {},
   "source": []
  },
  {
   "cell_type": "markdown",
   "metadata": {},
   "source": []
  },
  {
   "cell_type": "markdown",
   "metadata": {},
   "source": [
    "C. 解答问题"
   ]
  },
  {
   "cell_type": "code",
   "execution_count": 24,
   "metadata": {},
   "outputs": [
    {
     "name": "stdout",
     "output_type": "stream",
     "text": [
      "test\n",
      "0    0.019768\n",
      "1    0.015446\n",
      "Name: converted, dtype: float64\n",
      "test\n",
      "0    0.770967\n",
      "1    0.911330\n",
      "Name: revenue, dtype: float64\n"
     ]
    }
   ],
   "source": [
    "#a.涨价的整体影响\n",
    "print(all_data.groupby('test')['converted'].mean())\n",
    "print(all_data.groupby('test')['revenue'].mean())"
   ]
  },
  {
   "cell_type": "code",
   "execution_count": 25,
   "metadata": {},
   "outputs": [
    {
     "data": {
      "image/png": "[encoded data removed]",
      "text/plain": [
       "<Figure size 720x432 with 2 Axes>"
      ]
     },
     "metadata": {
      "needs_background": "light"
     },
     "output_type": "display_data"
    }
   ],
   "source": [
    "fig, ax = fig, ax = plt.subplots(nrows=1, ncols=2, figsize=(10, 6))\n",
    "sns.barplot(x='test',y='revenue',data=all_data,ax=ax[0])\n",
    "sns.barplot(x='test',y='converted',data=all_data,ax=ax[1])\n",
    "plt.tight_layout()\n",
    "plt.show()"
   ]
  },
  {
   "cell_type": "code",
   "execution_count": 26,
   "metadata": {},
   "outputs": [
    {
     "name": "stdout",
     "output_type": "stream",
     "text": [
      "Ttest_indResult(statistic=-5.298877264308738, pvalue=1.1666887515733168e-07)\n"
     ]
    }
   ],
   "source": [
    "ctr_val = all_data[all_data['test'] == 0]['revenue'].values\n",
    "exp_val = all_data[all_data['test'] == 1]['revenue'].values\n",
    "print(ttest_ind(ctr_val, exp_val, axis=0, equal_var=False))"
   ]
  },
  {
   "cell_type": "markdown",
   "metadata": {},
   "source": [
    "结论：涨价对转换率有一定的影响，将转换率从1.98%降到了1.54%左右。但人均销售额得到了提高，每个用户的人均销售额从77美分提高至了91美分。说明价格上涨的幅度足以抵消转换率的下降。\n",
    "\n",
    "通过做t-test也发现，涨价确实对人均销售额产生了显著影响。（虽然spicy里的ttest是用的two-tailed test，但鉴于pvalue的数值较小，足以得出结论，因此无需做进一步调整）\n",
    "\n",
    "总体来说，涨价确实能提高整体的销售额，但同时转换率也不可避免地下降。因此涨价与否取决于公司对产品未来的规划以及是否愿意以降低客户数量来换取销售额方面的增长。\n",
    "\n",
    "需要注意的是，由于实验并没有做到完全的随机性样本选择，上面的结论可能需要更多实验的支撑。"
   ]
  },
  {
   "cell_type": "code",
   "execution_count": 27,
   "metadata": {},
   "outputs": [],
   "source": [
    "#b.渠道与涨价的影响"
   ]
  },
  {
   "cell_type": "code",
   "execution_count": 28,
   "metadata": {},
   "outputs": [
    {
     "data": {
      "text/plain": [
       "18.206131352078685"
      ]
     },
     "execution_count": 28,
     "metadata": {},
     "output_type": "execute_result"
    }
   ],
   "source": [
    "amount = all_data.loc[all_data['test']==1]['revenue'].mean()-all_data.loc[all_data['test']==0]['revenue'].mean()\n",
    "percent = amount/all_data.loc[all_data['test']==0]['revenue'].mean()*100\n",
    "percent"
   ]
  },
  {
   "cell_type": "code",
   "execution_count": 29,
   "metadata": {},
   "outputs": [
    {
     "data": {
      "text/plain": [
       "source\n",
       "ads-bing           11.061907\n",
       "ads-google         29.700771\n",
       "ads-yahoo          18.894682\n",
       "ads_facebook        9.049242\n",
       "ads_other          31.546328\n",
       "direct_traffic     10.534174\n",
       "friend_referral    16.765548\n",
       "seo-bing          -38.614808\n",
       "seo-google         36.493428\n",
       "seo-other           3.894448\n",
       "seo-yahoo         -17.784541\n",
       "seo_facebook       19.654927\n",
       "Name: revenue, dtype: float64"
      ]
     },
     "execution_count": 29,
     "metadata": {},
     "output_type": "execute_result"
    }
   ],
   "source": [
    "amount2=(all_data.loc[all_data['test']==1].groupby(['source'])['revenue'].mean()-all_data.loc[all_data['test']==0].groupby(['source'])['revenue'].mean())\n",
    "percent2= amount2/all_data.loc[all_data['test']==0].groupby(['source'])['revenue'].mean()*100\n",
    "percent2"
   ]
  },
  {
   "cell_type": "markdown",
   "metadata": {},
   "source": [
    "结论：涨价对人均销售额的总体平均线提升为18%。对各个渠道做分析，发现不同渠道下，涨价对人均销售额的提高有不同的影响。具体来说，谷歌不论是seo还是广告，涨价对人均销售额的提升理论上都远高于平均值。有类似效果的还有通过其他渠道（others）的广告投发。而通过bing，facebook，和yahoo这几个渠道下得到的客户，涨价对人均销售额的提升效果总体上要低于平均值甚至会产生负面效果。\n",
    "\n",
    "鉴于篇幅，不对以上数据做显著性检验。"
   ]
  },
  {
   "cell_type": "markdown",
   "metadata": {},
   "source": []
  },
  {
   "cell_type": "markdown",
   "metadata": {},
   "source": []
  },
  {
   "cell_type": "code",
   "execution_count": 30,
   "metadata": {},
   "outputs": [
    {
     "data": {
      "text/plain": [
       "operative_system\n",
       "android     20.982177\n",
       "iOS         28.859449\n",
       "linux     -100.000000\n",
       "mac         16.438026\n",
       "other       16.879529\n",
       "windows     12.097261\n",
       "Name: revenue, dtype: float64"
      ]
     },
     "execution_count": 30,
     "metadata": {},
     "output_type": "execute_result"
    }
   ],
   "source": [
    "#c.操作平台与涨价的关系\n",
    "amount3=(all_data.loc[all_data['test']==1].groupby(['operative_system'])['revenue'].mean()-all_data.loc[all_data['test']==0].groupby(['operative_system'])['revenue'].mean())\n",
    "percent3= amount3/all_data.loc[all_data['test']==0].groupby(['operative_system'])['revenue'].mean()*100\n",
    "percent3"
   ]
  },
  {
   "cell_type": "code",
   "execution_count": 31,
   "metadata": {},
   "outputs": [
    {
     "data": {
      "image/png": "[encoded data removed]",
      "text/plain": [
       "<Figure size 1440x432 with 1 Axes>"
      ]
     },
     "metadata": {
      "needs_background": "light"
     },
     "output_type": "display_data"
    }
   ],
   "source": [
    "    #不同渠道下的客户人均销售额-图表\n",
    "fig, ax = plt.subplots(figsize=(20, 6))\n",
    "sns.barplot(x='operative_system',y='revenue',hue='test',data=all_data)\n",
    "plt.tight_layout()\n",
    "plt.show()"
   ]
  },
  {
   "cell_type": "markdown",
   "metadata": {},
   "source": [
    "结论：不同平台下涨价对销售额的影响也有差异。具体来说，ios用户对价格的敏感度要低于平均值。同时，分析发现涨价对于移动端用户上的销售额提高要大于网页端用户。linux的用户对价格极为敏感，当价格上涨至59美金，1701名实验用户均没有选择付费（由于此项数据太过极端，不排除数据出错的可能）。\n",
    "\n",
    "鉴于篇幅，不对以上数据做显著性检验。"
   ]
  },
  {
   "cell_type": "markdown",
   "metadata": {},
   "source": [
    "整体结论：涨价对销售额有提升作用，同时分析发现不同渠道，不同操作系统下的客户对价格的敏感度也不一样。建议产品方在运用涨价策略时，对特定渠道（如Google）做重点关注，同时要加大对移动端用户的投资。对于某些细分群体（如Linux用户），涨价策略要谨慎使用。当然，这些细分策略是否得到运用要取决于相关的财务成本（如Google的运营成本是否显著高于其他渠道），这方面需要做进一步计算与分析。"
   ]
  },
  {
   "cell_type": "markdown",
   "metadata": {},
   "source": []
  },
  {
   "cell_type": "markdown",
   "metadata": {},
   "source": []
  },
  {
   "cell_type": "markdown",
   "metadata": {},
   "source": []
  },
  {
   "cell_type": "markdown",
   "metadata": {},
   "source": []
  },
  {
   "cell_type": "markdown",
   "metadata": {},
   "source": [
    "补充:  渠道与操作平台这两个特征可能相关联，这会影响上述结论。鉴于篇幅不对此做分析。\n",
    "     地理位置可能也对涨价效果有影响，并且未对实验组中客户地理位置的随机性做检查。\n",
    "     用户访问网址时间可能会影响转化率。鉴于篇幅和有限的产品信息，决定不对这方面做分析。"
   ]
  }
 ],
 "metadata": {
  "kernelspec": {
   "display_name": "Python 3",
   "language": "python",
   "name": "python3"
  },
  "language_info": {
   "codemirror_mode": {
    "name": "ipython",
    "version": 3
   },
   "file_extension": ".py",
   "mimetype": "text/x-python",
   "name": "python",
   "nbconvert_exporter": "python",
   "pygments_lexer": "ipython3",
   "version": "3.7.4"
  }
 },
 "nbformat": 4,
 "nbformat_minor": 2
}
